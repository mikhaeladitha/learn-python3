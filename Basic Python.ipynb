{
 "cells": [
  {
   "cell_type": "markdown",
   "id": "a8b31e38-bfd3-4bbb-8b1f-92e6bd7ccd8f",
   "metadata": {
    "tags": []
   },
   "source": [
    "# **BASIC PHYTON 1**"
   ]
  },
  {
   "cell_type": "markdown",
   "id": "686ac424-1ef8-4d40-9d2e-5a6d860c0784",
   "metadata": {},
   "source": [
    "> __MATERI PERTEMUAN 1__"
   ]
  },
  {
   "cell_type": "markdown",
   "id": "795c5f23-5716-4fb4-b977-afea1d7e30fd",
   "metadata": {},
   "source": [
    "## 1. MARKDOWN"
   ]
  },
  {
   "cell_type": "markdown",
   "id": "0df5658a-23f3-46bf-9e3f-fd1f1f69c0ee",
   "metadata": {},
   "source": [
    "## __Header__"
   ]
  },
  {
   "cell_type": "markdown",
   "id": "7609c04a-b065-4dec-8af8-40484041227c",
   "metadata": {},
   "source": [
    "# H1\n",
    "## H2\n",
    "### H3\n",
    "#### H4\n",
    "##### H5\n",
    "###### H6"
   ]
  },
  {
   "cell_type": "markdown",
   "id": "c44cd442-be7b-4c9c-b4d5-d0c43d054109",
   "metadata": {},
   "source": [
    "# H1\n",
    "## H2\n",
    "### H3\n",
    "#### H4\n",
    "##### H5\n",
    "###### H6"
   ]
  },
  {
   "cell_type": "markdown",
   "id": "6c144532-387d-45a3-87c3-08e728ac06f3",
   "metadata": {},
   "source": [
    "## __Text__"
   ]
  },
  {
   "cell_type": "markdown",
   "id": "c00454d2-265b-4509-ace5-0e9a87cc6681",
   "metadata": {},
   "source": [
    "Tulisan biasa"
   ]
  },
  {
   "cell_type": "markdown",
   "id": "937ec4c7-4706-49b5-8136-84317182d160",
   "metadata": {},
   "source": [
    "- Tulisan biasa dengan bullet"
   ]
  },
  {
   "cell_type": "markdown",
   "id": "bab98a06-3051-4d86-afc6-759e5af5c241",
   "metadata": {},
   "source": [
    "> Tulisan biasa dengan indent"
   ]
  },
  {
   "cell_type": "markdown",
   "id": "232e555b-6a60-4217-bfa1-c7d501b86015",
   "metadata": {},
   "source": [
    "`Tulisan dengan monospace`"
   ]
  },
  {
   "cell_type": "markdown",
   "id": "0f04a7bd-bdf0-4a6b-a7e7-7ef68b708721",
   "metadata": {},
   "source": [
    "## __EMPHASIS__"
   ]
  },
  {
   "cell_type": "markdown",
   "id": "ead83723-abeb-480f-9567-940fcd6c672b",
   "metadata": {},
   "source": [
    "Emphasis, aka italics, with *arteriks* or _underscore_ or *italic*. <br>\n",
    "Strong emphasis, aka bold, with **bold**. <br>\n",
    "Combined emphasis with **_asterisks and underscore_**. <br>\n",
    "Striketrough uses two tildes. ~~Example~~"
   ]
  },
  {
   "cell_type": "markdown",
   "id": "3ebf52ce-a5e7-4372-b7f3-3e192819f8fd",
   "metadata": {},
   "source": [
    "## 2. PRINT"
   ]
  },
  {
   "cell_type": "markdown",
   "id": "81b80d7a-8a2c-4fae-9baa-6382ebb55293",
   "metadata": {},
   "source": [
    "> Fungsi Print pada **Phyton** adalah sebuh fungsi yang digunakan untuk memunculkan output yang ingin kita print pada console. Untuk mencetak cukup gunakan funsi `print()`, dimana sesuatu yang dicetak harus diletakkan di antara kurung buka dan kurung tutup."
   ]
  },
  {
   "cell_type": "code",
   "execution_count": 8,
   "id": "7ab0bb2a-34a4-4924-a23a-cc65be309b98",
   "metadata": {},
   "outputs": [
    {
     "name": "stdout",
     "output_type": "stream",
     "text": [
      "Hello\n"
     ]
    }
   ],
   "source": [
    "print(\"Hello\")"
   ]
  },
  {
   "cell_type": "code",
   "execution_count": 9,
   "id": "85075b1c-339a-4ce4-8ceb-f00e240bef78",
   "metadata": {},
   "outputs": [
    {
     "name": "stdout",
     "output_type": "stream",
     "text": [
      "Hello World\n"
     ]
    }
   ],
   "source": [
    "print(\"Hello World\")"
   ]
  },
  {
   "cell_type": "markdown",
   "id": "f9b9b812-8d71-44d2-8ca2-1e924f134cb4",
   "metadata": {},
   "source": [
    "- Pemakaian petik dua berguna untuk mencegah kebingungan saat ada kata yang mengungkapkan kepemilikan dalam bahasa Inggris `'s`"
   ]
  },
  {
   "cell_type": "code",
   "execution_count": 2,
   "id": "1f99441a-2b6d-4208-9a4b-0a03ddb8c3c6",
   "metadata": {},
   "outputs": [
    {
     "ename": "SyntaxError",
     "evalue": "invalid syntax (849485107.py, line 1)",
     "output_type": "error",
     "traceback": [
      "\u001b[1;36m  Input \u001b[1;32mIn [2]\u001b[1;36m\u001b[0m\n\u001b[1;33m    print('Hello C's World')\u001b[0m\n\u001b[1;37m                   ^\u001b[0m\n\u001b[1;31mSyntaxError\u001b[0m\u001b[1;31m:\u001b[0m invalid syntax\n"
     ]
    }
   ],
   "source": [
    "print('Hello C's World')"
   ]
  },
  {
   "cell_type": "markdown",
   "id": "db258d04-efe6-4f6e-a7a0-e709c28ae825",
   "metadata": {},
   "source": [
    "- Penggabungan string dapat dilakukan dengan memakai tanda `+` maupun `,`"
   ]
  },
  {
   "cell_type": "code",
   "execution_count": 1,
   "id": "2711b4ad-8a8a-4063-b2dd-bc857c408d3f",
   "metadata": {},
   "outputs": [
    {
     "name": "stdout",
     "output_type": "stream",
     "text": [
      "Hello Mikhael Aditha 15\n"
     ]
    }
   ],
   "source": [
    "print(\"Hello Mikhael \" + \"Aditha\", \"15\")"
   ]
  },
  {
   "cell_type": "markdown",
   "id": "8779458d-19a5-4760-9136-67f2e43425d1",
   "metadata": {},
   "source": [
    "- Print dengan berbeda baris dapat dilakukan dengan memberikan `enter`"
   ]
  },
  {
   "cell_type": "code",
   "execution_count": 13,
   "id": "28ab5b43-278b-42bf-b6fb-0d7de07d65a3",
   "metadata": {},
   "outputs": [
    {
     "name": "stdout",
     "output_type": "stream",
     "text": [
      "Hello \n",
      "World\n"
     ]
    }
   ],
   "source": [
    "print('''Hello \n",
    "World''')"
   ]
  },
  {
   "cell_type": "markdown",
   "id": "18614389-9ad5-4900-889c-b6b4761ff1d1",
   "metadata": {},
   "source": [
    "- Print aritmatika"
   ]
  },
  {
   "cell_type": "code",
   "execution_count": 15,
   "id": "61995bca-bbaa-435f-916b-877050d6c54e",
   "metadata": {},
   "outputs": [
    {
     "name": "stdout",
     "output_type": "stream",
     "text": [
      "4\n"
     ]
    }
   ],
   "source": [
    "print(2+2)"
   ]
  },
  {
   "cell_type": "markdown",
   "id": "1877e5c3-492b-408a-b16a-14b99d4e002b",
   "metadata": {},
   "source": [
    "## 3. COMMENNT"
   ]
  },
  {
   "cell_type": "markdown",
   "id": "c7ae1484-f728-4cad-8beb-c30916ab90d2",
   "metadata": {},
   "source": [
    "> **Comment** adalah kode di dalam script Python yang tidak dieksekusi oleh mesin. Komentar hanya digunakan untuk menandai ataupun memberikan keterangan tertulis pada script. Untuk memberikan komentar pada script phyton bisa menggunakan `#` atau `\"\"\"`."
   ]
  },
  {
   "cell_type": "code",
   "execution_count": 4,
   "id": "973eda1a-8767-4639-92ab-ecd5bab10965",
   "metadata": {},
   "outputs": [],
   "source": [
    "# ini adalah komentar\n",
    "# hanya untuk satu baris"
   ]
  },
  {
   "cell_type": "markdown",
   "id": "e78b55d4-80e7-4ffb-877a-2142afe686ec",
   "metadata": {},
   "source": [
    "- Untuk comment multiple bisa memblok text dengan **Ctrl+/**"
   ]
  },
  {
   "cell_type": "code",
   "execution_count": 7,
   "id": "45fab5a8-c208-4d3b-8ee0-bffe4cf52a63",
   "metadata": {},
   "outputs": [
    {
     "name": "stdout",
     "output_type": "stream",
     "text": [
      "Hello World\n"
     ]
    }
   ],
   "source": [
    "\"\"\"\n",
    "Penulisan komentar lebih dari satu baris yaitu\n",
    "dengan menggunakan tanda kutip dua sebanyak 3 kali\n",
    "di awal dan di akhir komentar\n",
    "\"\"\"\n",
    "print(\"Hello World\")"
   ]
  },
  {
   "cell_type": "code",
   "execution_count": 6,
   "id": "49a0d2a6-84e7-40c6-b571-9c1995a65012",
   "metadata": {},
   "outputs": [
    {
     "name": "stdout",
     "output_type": "stream",
     "text": [
      "Hello world\n",
      "100\n"
     ]
    }
   ],
   "source": [
    "# ini untuk mencetak nama\n",
    "print('Hello world') # ini juga komentar\n",
    "# untuk mencetak angka\n",
    "print(50+50)\n",
    "# komentar tidak akan terlihat di output yang di jalankan"
   ]
  },
  {
   "cell_type": "markdown",
   "id": "6089b94e-5486-41f8-9db7-d41c2b2aa24f",
   "metadata": {},
   "source": [
    "## 4. TYPE"
   ]
  },
  {
   "cell_type": "markdown",
   "id": "b84e8098-2da8-414f-8764-3f8941844d91",
   "metadata": {},
   "source": [
    "> Fungsi `type()` digunakan untuk mengecek tipe data pada suatu data."
   ]
  },
  {
   "cell_type": "code",
   "execution_count": 24,
   "id": "5e3cfce1-b903-492c-ab3c-5a1742c8a635",
   "metadata": {},
   "outputs": [
    {
     "name": "stdout",
     "output_type": "stream",
     "text": [
      "<class 'bool'>\n"
     ]
    }
   ],
   "source": [
    "# tipe data boolean\n",
    "print(type(False))"
   ]
  },
  {
   "cell_type": "code",
   "execution_count": 8,
   "id": "5807c720-3928-435d-9e36-8dbdb807105c",
   "metadata": {},
   "outputs": [
    {
     "name": "stdout",
     "output_type": "stream",
     "text": [
      "<class 'str'>\n"
     ]
    }
   ],
   "source": [
    "# tipe data string\n",
    "print(type(\"Irfan Bachdim\"))"
   ]
  },
  {
   "cell_type": "code",
   "execution_count": 27,
   "id": "527b125c-3878-44a7-9450-2a1d55c92827",
   "metadata": {},
   "outputs": [
    {
     "name": "stdout",
     "output_type": "stream",
     "text": [
      "<class 'int'>\n"
     ]
    }
   ],
   "source": [
    "# tipe data integer\n",
    "print(type(10))"
   ]
  },
  {
   "cell_type": "code",
   "execution_count": 30,
   "id": "98157c09-692b-49be-b565-39f5dc900a6e",
   "metadata": {},
   "outputs": [
    {
     "name": "stdout",
     "output_type": "stream",
     "text": [
      "<class 'float'>\n",
      "<class 'float'>\n"
     ]
    }
   ],
   "source": [
    "# tipe data float\n",
    "print(type(99.9))\n",
    "# tipe data float\n",
    "print(type(35e3))"
   ]
  },
  {
   "cell_type": "code",
   "execution_count": 21,
   "id": "0caaf405-6da0-40bb-9c9f-42e8d07d45a0",
   "metadata": {},
   "outputs": [
    {
     "name": "stdout",
     "output_type": "stream",
     "text": [
      "<class 'complex'>\n"
     ]
    }
   ],
   "source": [
    "# tipe data complex\n",
    "print(type(5j))\n",
    "# tipe data complex harus menggunakan j di akhir"
   ]
  },
  {
   "cell_type": "markdown",
   "id": "f6842086-2f67-41be-b6fd-4ac315f36939",
   "metadata": {},
   "source": [
    "> **Type Casting** adalah suatu pengubahan tipe data satu ke tipe data lainnya, biasa digunakan saat sedang proses manipulasi data"
   ]
  },
  {
   "cell_type": "code",
   "execution_count": 20,
   "id": "6aa2b950-47f3-46ff-b1d3-c6de2c30b22d",
   "metadata": {},
   "outputs": [
    {
     "name": "stdout",
     "output_type": "stream",
     "text": [
      "True\n",
      "False\n",
      "<class 'bool'>\n",
      "True\n",
      "False\n",
      "False\n",
      "<class 'bool'>\n"
     ]
    }
   ],
   "source": [
    "# casting ke boolean\n",
    "print(bool(\"Irfan Bachdim 17\")) # semua string dianggap True, kecuali empty\n",
    "print(bool(\"\")) \n",
    "print(type(bool(\"Irfan Bachdim 17\"))) \n",
    "print(bool(100)) # semua number dianggap True, kecuali di empty\n",
    "print(bool())\n",
    "print(bool(0))\n",
    "print(type(bool(100)))"
   ]
  },
  {
   "cell_type": "code",
   "execution_count": 41,
   "id": "fd6300bc-a352-450d-8472-c1757eda02c7",
   "metadata": {},
   "outputs": [
    {
     "name": "stdout",
     "output_type": "stream",
     "text": [
      "<class 'str'>\n"
     ]
    }
   ],
   "source": [
    "# casting ke string\n",
    "print(type(str(15)))"
   ]
  },
  {
   "cell_type": "code",
   "execution_count": 42,
   "id": "7b36b758-a073-439b-ae7a-954b25c0001b",
   "metadata": {},
   "outputs": [
    {
     "name": "stdout",
     "output_type": "stream",
     "text": [
      "<class 'int'>\n"
     ]
    }
   ],
   "source": [
    "# casting ke integer\n",
    "print(type(int(35e3)))"
   ]
  },
  {
   "cell_type": "code",
   "execution_count": 50,
   "id": "86b5bc0f-36a3-45ac-84fc-3b930935a901",
   "metadata": {},
   "outputs": [
    {
     "name": "stdout",
     "output_type": "stream",
     "text": [
      "<class 'float'>\n"
     ]
    }
   ],
   "source": [
    "# casting ke float\n",
    "print(type(float(123)))"
   ]
  },
  {
   "cell_type": "code",
   "execution_count": 51,
   "id": "a70f0204-81f7-4645-810e-087e05c4b4b7",
   "metadata": {},
   "outputs": [
    {
     "name": "stdout",
     "output_type": "stream",
     "text": [
      "<class 'complex'>\n"
     ]
    }
   ],
   "source": [
    "# casting ke complex\n",
    "print(type(complex('12j')))"
   ]
  },
  {
   "cell_type": "markdown",
   "id": "265e5e1f-62bc-40b7-b32e-dc3640fae9e8",
   "metadata": {},
   "source": [
    "> __MATERI PERTEMUAN 2__"
   ]
  },
  {
   "cell_type": "code",
   "execution_count": null,
   "id": "145025d3-6fa2-46e5-a55c-936f3483ae7c",
   "metadata": {},
   "outputs": [],
   "source": []
  }
 ],
 "metadata": {
  "kernelspec": {
   "display_name": "Python 3 (ipykernel)",
   "language": "python",
   "name": "python3"
  },
  "language_info": {
   "codemirror_mode": {
    "name": "ipython",
    "version": 3
   },
   "file_extension": ".py",
   "mimetype": "text/x-python",
   "name": "python",
   "nbconvert_exporter": "python",
   "pygments_lexer": "ipython3",
   "version": "3.9.12"
  }
 },
 "nbformat": 4,
 "nbformat_minor": 5
}
